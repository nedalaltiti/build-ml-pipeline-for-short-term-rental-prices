{
 "cells": [
  {
   "cell_type": "code",
   "execution_count": 1,
   "id": "095089e0-31ea-45ff-9fc2-e00bbcaa5785",
   "metadata": {},
   "outputs": [
    {
     "name": "stdout",
     "output_type": "stream",
     "text": [
      "Requirement already satisfied: pandas-profiling in /home/nedal/.pyenv/versions/3.8.17/lib/python3.8/site-packages (3.6.6)\n",
      "Requirement already satisfied: ydata-profiling in /home/nedal/.pyenv/versions/3.8.17/lib/python3.8/site-packages (from pandas-profiling) (4.5.1)\n",
      "Requirement already satisfied: seaborn<0.13,>=0.10.1 in /home/nedal/.pyenv/versions/3.8.17/lib/python3.8/site-packages (from ydata-profiling->pandas-profiling) (0.12.2)\n",
      "Requirement already satisfied: requests<3,>=2.24.0 in /home/nedal/.pyenv/versions/3.8.17/lib/python3.8/site-packages (from ydata-profiling->pandas-profiling) (2.31.0)\n",
      "Requirement already satisfied: pydantic<2,>=1.8.1 in /home/nedal/.pyenv/versions/3.8.17/lib/python3.8/site-packages (from ydata-profiling->pandas-profiling) (1.10.12)\n",
      "Requirement already satisfied: dacite>=1.8 in /home/nedal/.pyenv/versions/3.8.17/lib/python3.8/site-packages (from ydata-profiling->pandas-profiling) (1.8.1)\n",
      "Requirement already satisfied: matplotlib<4,>=3.2 in /home/nedal/.pyenv/versions/3.8.17/lib/python3.8/site-packages (from ydata-profiling->pandas-profiling) (3.7.2)\n",
      "Requirement already satisfied: visions[type_image_path]==0.7.5 in /home/nedal/.pyenv/versions/3.8.17/lib/python3.8/site-packages (from ydata-profiling->pandas-profiling) (0.7.5)\n",
      "Requirement already satisfied: phik<0.13,>=0.11.1 in /home/nedal/.pyenv/versions/3.8.17/lib/python3.8/site-packages (from ydata-profiling->pandas-profiling) (0.12.3)\n",
      "Requirement already satisfied: htmlmin==0.1.12 in /home/nedal/.pyenv/versions/3.8.17/lib/python3.8/site-packages (from ydata-profiling->pandas-profiling) (0.1.12)\n",
      "Requirement already satisfied: typeguard<3,>=2.13.2 in /home/nedal/.pyenv/versions/3.8.17/lib/python3.8/site-packages (from ydata-profiling->pandas-profiling) (2.13.3)\n",
      "Requirement already satisfied: multimethod<2,>=1.4 in /home/nedal/.pyenv/versions/3.8.17/lib/python3.8/site-packages (from ydata-profiling->pandas-profiling) (1.9.1)\n",
      "Requirement already satisfied: jinja2<3.2,>=2.11.1 in /home/nedal/.pyenv/versions/3.8.17/lib/python3.8/site-packages (from ydata-profiling->pandas-profiling) (3.1.2)\n",
      "Requirement already satisfied: imagehash==4.3.1 in /home/nedal/.pyenv/versions/3.8.17/lib/python3.8/site-packages (from ydata-profiling->pandas-profiling) (4.3.1)\n",
      "Requirement already satisfied: statsmodels<1,>=0.13.2 in /home/nedal/.pyenv/versions/3.8.17/lib/python3.8/site-packages (from ydata-profiling->pandas-profiling) (0.14.0)\n",
      "Requirement already satisfied: PyYAML<6.1,>=5.0.0 in /home/nedal/.pyenv/versions/3.8.17/lib/python3.8/site-packages (from ydata-profiling->pandas-profiling) (6.0.1)\n",
      "Requirement already satisfied: numpy<1.24,>=1.16.0 in /home/nedal/.pyenv/versions/3.8.17/lib/python3.8/site-packages (from ydata-profiling->pandas-profiling) (1.23.5)\n",
      "Requirement already satisfied: tqdm<5,>=4.48.2 in /home/nedal/.pyenv/versions/3.8.17/lib/python3.8/site-packages (from ydata-profiling->pandas-profiling) (4.66.1)\n",
      "Requirement already satisfied: wordcloud>=1.9.1 in /home/nedal/.pyenv/versions/3.8.17/lib/python3.8/site-packages (from ydata-profiling->pandas-profiling) (1.9.2)\n",
      "Requirement already satisfied: pandas!=1.4.0,<2.1,>1.1 in /home/nedal/.pyenv/versions/3.8.17/lib/python3.8/site-packages (from ydata-profiling->pandas-profiling) (2.0.3)\n",
      "Requirement already satisfied: scipy<1.12,>=1.4.1 in /home/nedal/.pyenv/versions/3.8.17/lib/python3.8/site-packages (from ydata-profiling->pandas-profiling) (1.10.1)\n",
      "Requirement already satisfied: pillow in /home/nedal/.pyenv/versions/3.8.17/lib/python3.8/site-packages (from imagehash==4.3.1->ydata-profiling->pandas-profiling) (10.0.0)\n",
      "Requirement already satisfied: PyWavelets in /home/nedal/.pyenv/versions/3.8.17/lib/python3.8/site-packages (from imagehash==4.3.1->ydata-profiling->pandas-profiling) (1.4.1)\n",
      "Requirement already satisfied: tangled-up-in-unicode>=0.0.4 in /home/nedal/.pyenv/versions/3.8.17/lib/python3.8/site-packages (from visions[type_image_path]==0.7.5->ydata-profiling->pandas-profiling) (0.2.0)\n",
      "Requirement already satisfied: networkx>=2.4 in /home/nedal/.pyenv/versions/3.8.17/lib/python3.8/site-packages (from visions[type_image_path]==0.7.5->ydata-profiling->pandas-profiling) (3.1)\n",
      "Requirement already satisfied: attrs>=19.3.0 in /home/nedal/.pyenv/versions/3.8.17/lib/python3.8/site-packages (from visions[type_image_path]==0.7.5->ydata-profiling->pandas-profiling) (23.1.0)\n",
      "Requirement already satisfied: MarkupSafe>=2.0 in /home/nedal/.pyenv/versions/3.8.17/lib/python3.8/site-packages (from jinja2<3.2,>=2.11.1->ydata-profiling->pandas-profiling) (2.1.3)\n",
      "Requirement already satisfied: python-dateutil>=2.7 in /home/nedal/.pyenv/versions/3.8.17/lib/python3.8/site-packages (from matplotlib<4,>=3.2->ydata-profiling->pandas-profiling) (2.8.2)\n",
      "Requirement already satisfied: importlib-resources>=3.2.0 in /home/nedal/.pyenv/versions/3.8.17/lib/python3.8/site-packages (from matplotlib<4,>=3.2->ydata-profiling->pandas-profiling) (6.0.1)\n",
      "Requirement already satisfied: pyparsing<3.1,>=2.3.1 in /home/nedal/.pyenv/versions/3.8.17/lib/python3.8/site-packages (from matplotlib<4,>=3.2->ydata-profiling->pandas-profiling) (3.0.9)\n",
      "Requirement already satisfied: fonttools>=4.22.0 in /home/nedal/.pyenv/versions/3.8.17/lib/python3.8/site-packages (from matplotlib<4,>=3.2->ydata-profiling->pandas-profiling) (4.42.0)\n",
      "Requirement already satisfied: contourpy>=1.0.1 in /home/nedal/.pyenv/versions/3.8.17/lib/python3.8/site-packages (from matplotlib<4,>=3.2->ydata-profiling->pandas-profiling) (1.1.0)\n",
      "Requirement already satisfied: cycler>=0.10 in /home/nedal/.pyenv/versions/3.8.17/lib/python3.8/site-packages (from matplotlib<4,>=3.2->ydata-profiling->pandas-profiling) (0.11.0)\n",
      "Requirement already satisfied: packaging>=20.0 in /home/nedal/.pyenv/versions/3.8.17/lib/python3.8/site-packages (from matplotlib<4,>=3.2->ydata-profiling->pandas-profiling) (23.1)\n",
      "Requirement already satisfied: kiwisolver>=1.0.1 in /home/nedal/.pyenv/versions/3.8.17/lib/python3.8/site-packages (from matplotlib<4,>=3.2->ydata-profiling->pandas-profiling) (1.4.4)\n",
      "Requirement already satisfied: tzdata>=2022.1 in /home/nedal/.pyenv/versions/3.8.17/lib/python3.8/site-packages (from pandas!=1.4.0,<2.1,>1.1->ydata-profiling->pandas-profiling) (2023.3)\n",
      "Requirement already satisfied: pytz>=2020.1 in /home/nedal/.pyenv/versions/3.8.17/lib/python3.8/site-packages (from pandas!=1.4.0,<2.1,>1.1->ydata-profiling->pandas-profiling) (2023.3)\n",
      "Requirement already satisfied: joblib>=0.14.1 in /home/nedal/.pyenv/versions/3.8.17/lib/python3.8/site-packages (from phik<0.13,>=0.11.1->ydata-profiling->pandas-profiling) (1.3.2)\n",
      "Requirement already satisfied: typing-extensions>=4.2.0 in /home/nedal/.pyenv/versions/3.8.17/lib/python3.8/site-packages (from pydantic<2,>=1.8.1->ydata-profiling->pandas-profiling) (4.7.1)\n",
      "Requirement already satisfied: idna<4,>=2.5 in /home/nedal/.pyenv/versions/3.8.17/lib/python3.8/site-packages (from requests<3,>=2.24.0->ydata-profiling->pandas-profiling) (3.4)\n",
      "Requirement already satisfied: urllib3<3,>=1.21.1 in /home/nedal/.pyenv/versions/3.8.17/lib/python3.8/site-packages (from requests<3,>=2.24.0->ydata-profiling->pandas-profiling) (1.26.16)\n",
      "Requirement already satisfied: charset-normalizer<4,>=2 in /home/nedal/.pyenv/versions/3.8.17/lib/python3.8/site-packages (from requests<3,>=2.24.0->ydata-profiling->pandas-profiling) (3.2.0)\n",
      "Requirement already satisfied: certifi>=2017.4.17 in /home/nedal/.pyenv/versions/3.8.17/lib/python3.8/site-packages (from requests<3,>=2.24.0->ydata-profiling->pandas-profiling) (2023.7.22)\n",
      "Requirement already satisfied: patsy>=0.5.2 in /home/nedal/.pyenv/versions/3.8.17/lib/python3.8/site-packages (from statsmodels<1,>=0.13.2->ydata-profiling->pandas-profiling) (0.5.3)\n",
      "Requirement already satisfied: zipp>=3.1.0 in /home/nedal/.pyenv/versions/3.8.17/lib/python3.8/site-packages (from importlib-resources>=3.2.0->matplotlib<4,>=3.2->ydata-profiling->pandas-profiling) (3.16.2)\n",
      "Requirement already satisfied: six in /home/nedal/.pyenv/versions/3.8.17/lib/python3.8/site-packages (from patsy>=0.5.2->statsmodels<1,>=0.13.2->ydata-profiling->pandas-profiling) (1.16.0)\n",
      "\n",
      "\u001b[1m[\u001b[0m\u001b[34;49mnotice\u001b[0m\u001b[1;39;49m]\u001b[0m\u001b[39;49m A new release of pip is available: \u001b[0m\u001b[31;49m23.0.1\u001b[0m\u001b[39;49m -> \u001b[0m\u001b[32;49m23.2.1\u001b[0m\n",
      "\u001b[1m[\u001b[0m\u001b[34;49mnotice\u001b[0m\u001b[1;39;49m]\u001b[0m\u001b[39;49m To update, run: \u001b[0m\u001b[32;49mpip install --upgrade pip\u001b[0m\n",
      "Note: you may need to restart the kernel to use updated packages.\n"
     ]
    }
   ],
   "source": [
    "pip install pandas-profiling"
   ]
  },
  {
   "cell_type": "code",
   "execution_count": 2,
   "id": "52a97185-e3f2-4bda-87d5-585d09ab519c",
   "metadata": {},
   "outputs": [],
   "source": [
    "import wandb\n",
    "import pandas as pd\n",
    "import ydata_profiling"
   ]
  },
  {
   "cell_type": "code",
   "execution_count": 3,
   "id": "b4baa669-1d39-42f7-ad3f-cb21adf25fe9",
   "metadata": {},
   "outputs": [
    {
     "name": "stderr",
     "output_type": "stream",
     "text": [
      "\u001b[34m\u001b[1mwandb\u001b[0m: Currently logged in as: \u001b[33maioptimiza\u001b[0m (use `wandb login --relogin` to force relogin)\n",
      "\u001b[34m\u001b[1mwandb\u001b[0m: wandb version 0.15.8 is available!  To upgrade, please run:\n",
      "\u001b[34m\u001b[1mwandb\u001b[0m:  $ pip install wandb --upgrade\n"
     ]
    },
    {
     "data": {
      "text/html": [
       "\n",
       "                Tracking run with wandb version 0.10.31<br/>\n",
       "                Syncing run <strong style=\"color:#cdcd00\">lucky-tree-4</strong> to <a href=\"https://wandb.ai\" target=\"_blank\">Weights & Biases</a> <a href=\"https://docs.wandb.com/integrations/jupyter.html\" target=\"_blank\">(Documentation)</a>.<br/>\n",
       "                Project page: <a href=\"https://wandb.ai/aioptimiza/nyc_airbnb\" target=\"_blank\">https://wandb.ai/aioptimiza/nyc_airbnb</a><br/>\n",
       "                Run page: <a href=\"https://wandb.ai/aioptimiza/nyc_airbnb/runs/j6als0zk\" target=\"_blank\">https://wandb.ai/aioptimiza/nyc_airbnb/runs/j6als0zk</a><br/>\n",
       "                Run data is saved locally in <code>/home/nedal/my_project/build-ml-pipeline-for-short-term-rental-prices/src/eda/wandb/run-20230816_174006-j6als0zk</code><br/><br/>\n",
       "            "
      ],
      "text/plain": [
       "<IPython.core.display.HTML object>"
      ]
     },
     "metadata": {},
     "output_type": "display_data"
    }
   ],
   "source": [
    "run = wandb.init(project=\"nyc_airbnb\", \n",
    "                 group=\"eda\",\n",
    "                 save_code=\"True\"\n",
    "                )"
   ]
  },
  {
   "cell_type": "code",
   "execution_count": 4,
   "id": "3593b112-e8d5-4d23-a024-b2dcbe715366",
   "metadata": {},
   "outputs": [],
   "source": [
    "local_path = wandb.use_artifact(\"sample.csv:latest\").file()\n",
    "df = pd.read_csv(local_path)"
   ]
  },
  {
   "cell_type": "code",
   "execution_count": 5,
   "id": "96d6a4a9-4cfc-4a91-9015-99c9171fb585",
   "metadata": {},
   "outputs": [
    {
     "data": {
      "text/html": [
       "<div>\n",
       "<style scoped>\n",
       "    .dataframe tbody tr th:only-of-type {\n",
       "        vertical-align: middle;\n",
       "    }\n",
       "\n",
       "    .dataframe tbody tr th {\n",
       "        vertical-align: top;\n",
       "    }\n",
       "\n",
       "    .dataframe thead th {\n",
       "        text-align: right;\n",
       "    }\n",
       "</style>\n",
       "<table border=\"1\" class=\"dataframe\">\n",
       "  <thead>\n",
       "    <tr style=\"text-align: right;\">\n",
       "      <th></th>\n",
       "      <th>id</th>\n",
       "      <th>name</th>\n",
       "      <th>host_id</th>\n",
       "      <th>host_name</th>\n",
       "      <th>neighbourhood_group</th>\n",
       "      <th>neighbourhood</th>\n",
       "      <th>latitude</th>\n",
       "      <th>longitude</th>\n",
       "      <th>room_type</th>\n",
       "      <th>price</th>\n",
       "      <th>minimum_nights</th>\n",
       "      <th>number_of_reviews</th>\n",
       "      <th>last_review</th>\n",
       "      <th>reviews_per_month</th>\n",
       "      <th>calculated_host_listings_count</th>\n",
       "      <th>availability_365</th>\n",
       "    </tr>\n",
       "  </thead>\n",
       "  <tbody>\n",
       "    <tr>\n",
       "      <th>0</th>\n",
       "      <td>9138664</td>\n",
       "      <td>Private Lg Room 15 min to Manhattan</td>\n",
       "      <td>47594947</td>\n",
       "      <td>Iris</td>\n",
       "      <td>Queens</td>\n",
       "      <td>Sunnyside</td>\n",
       "      <td>40.74271</td>\n",
       "      <td>-73.92493</td>\n",
       "      <td>Private room</td>\n",
       "      <td>74</td>\n",
       "      <td>2</td>\n",
       "      <td>6</td>\n",
       "      <td>2019-05-26</td>\n",
       "      <td>0.13</td>\n",
       "      <td>1</td>\n",
       "      <td>5</td>\n",
       "    </tr>\n",
       "    <tr>\n",
       "      <th>1</th>\n",
       "      <td>31444015</td>\n",
       "      <td>TIME SQUARE CHARMING ONE BED IN HELL'S KITCHEN...</td>\n",
       "      <td>8523790</td>\n",
       "      <td>Johlex</td>\n",
       "      <td>Manhattan</td>\n",
       "      <td>Hell's Kitchen</td>\n",
       "      <td>40.76682</td>\n",
       "      <td>-73.98878</td>\n",
       "      <td>Entire home/apt</td>\n",
       "      <td>170</td>\n",
       "      <td>3</td>\n",
       "      <td>0</td>\n",
       "      <td>NaN</td>\n",
       "      <td>NaN</td>\n",
       "      <td>1</td>\n",
       "      <td>188</td>\n",
       "    </tr>\n",
       "    <tr>\n",
       "      <th>2</th>\n",
       "      <td>8741020</td>\n",
       "      <td>Voted #1 Location Quintessential 1BR W Village...</td>\n",
       "      <td>45854238</td>\n",
       "      <td>John</td>\n",
       "      <td>Manhattan</td>\n",
       "      <td>West Village</td>\n",
       "      <td>40.73631</td>\n",
       "      <td>-74.00611</td>\n",
       "      <td>Entire home/apt</td>\n",
       "      <td>245</td>\n",
       "      <td>3</td>\n",
       "      <td>51</td>\n",
       "      <td>2018-09-19</td>\n",
       "      <td>1.12</td>\n",
       "      <td>1</td>\n",
       "      <td>0</td>\n",
       "    </tr>\n",
       "    <tr>\n",
       "      <th>3</th>\n",
       "      <td>34602077</td>\n",
       "      <td>Spacious 1 bedroom apartment 15min from Manhattan</td>\n",
       "      <td>261055465</td>\n",
       "      <td>Regan</td>\n",
       "      <td>Queens</td>\n",
       "      <td>Astoria</td>\n",
       "      <td>40.76424</td>\n",
       "      <td>-73.92351</td>\n",
       "      <td>Entire home/apt</td>\n",
       "      <td>125</td>\n",
       "      <td>3</td>\n",
       "      <td>1</td>\n",
       "      <td>2019-05-24</td>\n",
       "      <td>0.65</td>\n",
       "      <td>1</td>\n",
       "      <td>13</td>\n",
       "    </tr>\n",
       "    <tr>\n",
       "      <th>4</th>\n",
       "      <td>23203149</td>\n",
       "      <td>Big beautiful bedroom in huge Bushwick apartment</td>\n",
       "      <td>143460</td>\n",
       "      <td>Megan</td>\n",
       "      <td>Brooklyn</td>\n",
       "      <td>Bushwick</td>\n",
       "      <td>40.69839</td>\n",
       "      <td>-73.92044</td>\n",
       "      <td>Private room</td>\n",
       "      <td>65</td>\n",
       "      <td>2</td>\n",
       "      <td>8</td>\n",
       "      <td>2019-06-23</td>\n",
       "      <td>0.52</td>\n",
       "      <td>2</td>\n",
       "      <td>8</td>\n",
       "    </tr>\n",
       "  </tbody>\n",
       "</table>\n",
       "</div>"
      ],
      "text/plain": [
       "         id                                               name    host_id  \\\n",
       "0   9138664                Private Lg Room 15 min to Manhattan   47594947   \n",
       "1  31444015  TIME SQUARE CHARMING ONE BED IN HELL'S KITCHEN...    8523790   \n",
       "2   8741020  Voted #1 Location Quintessential 1BR W Village...   45854238   \n",
       "3  34602077  Spacious 1 bedroom apartment 15min from Manhattan  261055465   \n",
       "4  23203149   Big beautiful bedroom in huge Bushwick apartment     143460   \n",
       "\n",
       "  host_name neighbourhood_group   neighbourhood  latitude  longitude  \\\n",
       "0      Iris              Queens       Sunnyside  40.74271  -73.92493   \n",
       "1    Johlex           Manhattan  Hell's Kitchen  40.76682  -73.98878   \n",
       "2      John           Manhattan    West Village  40.73631  -74.00611   \n",
       "3     Regan              Queens         Astoria  40.76424  -73.92351   \n",
       "4     Megan            Brooklyn        Bushwick  40.69839  -73.92044   \n",
       "\n",
       "         room_type  price  minimum_nights  number_of_reviews last_review  \\\n",
       "0     Private room     74               2                  6  2019-05-26   \n",
       "1  Entire home/apt    170               3                  0         NaN   \n",
       "2  Entire home/apt    245               3                 51  2018-09-19   \n",
       "3  Entire home/apt    125               3                  1  2019-05-24   \n",
       "4     Private room     65               2                  8  2019-06-23   \n",
       "\n",
       "   reviews_per_month  calculated_host_listings_count  availability_365  \n",
       "0               0.13                               1                 5  \n",
       "1                NaN                               1               188  \n",
       "2               1.12                               1                 0  \n",
       "3               0.65                               1                13  \n",
       "4               0.52                               2                 8  "
      ]
     },
     "execution_count": 5,
     "metadata": {},
     "output_type": "execute_result"
    }
   ],
   "source": [
    "df.head()"
   ]
  },
  {
   "cell_type": "code",
   "execution_count": 10,
   "id": "2318d90b-a3bc-475d-8469-eb72d52101ba",
   "metadata": {},
   "outputs": [],
   "source": [
    "profile = ydata_profiling.ProfileReport(df, minimal=True)"
   ]
  },
  {
   "cell_type": "code",
   "execution_count": 11,
   "id": "341c77ad-8431-4fd0-a835-098157007f08",
   "metadata": {},
   "outputs": [
    {
     "data": {
      "application/vnd.jupyter.widget-view+json": {
       "model_id": "eca801ffbcc149d897fe66632e9c059d",
       "version_major": 2,
       "version_minor": 0
      },
      "text/plain": [
       "Summarize dataset:   0%|          | 0/5 [00:00<?, ?it/s]"
      ]
     },
     "metadata": {},
     "output_type": "display_data"
    },
    {
     "data": {
      "application/vnd.jupyter.widget-view+json": {
       "model_id": "9c96165091ad4835a9af22e518740f22",
       "version_major": 2,
       "version_minor": 0
      },
      "text/plain": [
       "Generate report structure:   0%|          | 0/1 [00:00<?, ?it/s]"
      ]
     },
     "metadata": {},
     "output_type": "display_data"
    },
    {
     "data": {
      "application/vnd.jupyter.widget-view+json": {
       "model_id": "8b3444fc78ba4548bcae531d829ff50c",
       "version_major": 2,
       "version_minor": 0
      },
      "text/plain": [
       "Render widgets:   0%|          | 0/1 [00:00<?, ?it/s]"
      ]
     },
     "metadata": {},
     "output_type": "display_data"
    },
    {
     "name": "stderr",
     "output_type": "stream",
     "text": [
      "IOPub message rate exceeded.\n",
      "The Jupyter server will temporarily stop sending output\n",
      "to the client in order to avoid crashing it.\n",
      "To change this limit, set the config variable\n",
      "`--ServerApp.iopub_msg_rate_limit`.\n",
      "\n",
      "Current values:\n",
      "ServerApp.iopub_msg_rate_limit=1000.0 (msgs/sec)\n",
      "ServerApp.rate_limit_window=3.0 (secs)\n",
      "\n",
      "IOPub message rate exceeded.\n",
      "The Jupyter server will temporarily stop sending output\n",
      "to the client in order to avoid crashing it.\n",
      "To change this limit, set the config variable\n",
      "`--ServerApp.iopub_msg_rate_limit`.\n",
      "\n",
      "Current values:\n",
      "ServerApp.iopub_msg_rate_limit=1000.0 (msgs/sec)\n",
      "ServerApp.rate_limit_window=3.0 (secs)\n",
      "\n",
      "IOPub message rate exceeded.\n",
      "The Jupyter server will temporarily stop sending output\n",
      "to the client in order to avoid crashing it.\n",
      "To change this limit, set the config variable\n",
      "`--ServerApp.iopub_msg_rate_limit`.\n",
      "\n",
      "Current values:\n",
      "ServerApp.iopub_msg_rate_limit=1000.0 (msgs/sec)\n",
      "ServerApp.rate_limit_window=3.0 (secs)\n",
      "\n"
     ]
    }
   ],
   "source": [
    "profile.to_widgets()"
   ]
  },
  {
   "cell_type": "code",
   "execution_count": 12,
   "id": "a94f0ff9-2130-4e1e-84ad-91749ce9af06",
   "metadata": {},
   "outputs": [],
   "source": [
    "min_price = 10\n",
    "max_price = 350\n",
    "idx = df['price'].between(min_price, max_price)\n",
    "df = df[idx].copy()\n",
    "# Convert last_review to datetime\n",
    "df['last_review'] = pd.to_datetime(df['last_review'])"
   ]
  },
  {
   "cell_type": "code",
   "execution_count": 13,
   "id": "250b47ad-1337-421c-8760-33d6cc71c6c7",
   "metadata": {},
   "outputs": [
    {
     "name": "stdout",
     "output_type": "stream",
     "text": [
      "<class 'pandas.core.frame.DataFrame'>\n",
      "Index: 19001 entries, 0 to 19999\n",
      "Data columns (total 16 columns):\n",
      " #   Column                          Non-Null Count  Dtype         \n",
      "---  ------                          --------------  -----         \n",
      " 0   id                              19001 non-null  int64         \n",
      " 1   name                            18994 non-null  object        \n",
      " 2   host_id                         19001 non-null  int64         \n",
      " 3   host_name                       18993 non-null  object        \n",
      " 4   neighbourhood_group             19001 non-null  object        \n",
      " 5   neighbourhood                   19001 non-null  object        \n",
      " 6   latitude                        19001 non-null  float64       \n",
      " 7   longitude                       19001 non-null  float64       \n",
      " 8   room_type                       19001 non-null  object        \n",
      " 9   price                           19001 non-null  int64         \n",
      " 10  minimum_nights                  19001 non-null  int64         \n",
      " 11  number_of_reviews               19001 non-null  int64         \n",
      " 12  last_review                     15243 non-null  datetime64[ns]\n",
      " 13  reviews_per_month               15243 non-null  float64       \n",
      " 14  calculated_host_listings_count  19001 non-null  int64         \n",
      " 15  availability_365                19001 non-null  int64         \n",
      "dtypes: datetime64[ns](1), float64(3), int64(7), object(5)\n",
      "memory usage: 2.5+ MB\n"
     ]
    }
   ],
   "source": [
    "df.info()"
   ]
  },
  {
   "cell_type": "code",
   "execution_count": 14,
   "id": "4b8bf2ab-2a8b-4287-89a6-822a1cb6adec",
   "metadata": {},
   "outputs": [
    {
     "data": {
      "text/html": [
       "<br/>Waiting for W&B process to finish, PID 150536<br/>Program ended successfully."
      ],
      "text/plain": [
       "<IPython.core.display.HTML object>"
      ]
     },
     "metadata": {},
     "output_type": "display_data"
    },
    {
     "data": {
      "application/vnd.jupyter.widget-view+json": {
       "model_id": "",
       "version_major": 2,
       "version_minor": 0
      },
      "text/plain": [
       "VBox(children=(Label(value=' 0.09MB of 0.09MB uploaded (0.00MB deduped)\\r'), FloatProgress(value=1.0, max=1.0)…"
      ]
     },
     "metadata": {},
     "output_type": "display_data"
    },
    {
     "data": {
      "text/html": [
       "Find user logs for this run at: <code>/home/nedal/my_project/build-ml-pipeline-for-short-term-rental-prices/src/eda/wandb/run-20230816_174006-j6als0zk/logs/debug.log</code>"
      ],
      "text/plain": [
       "<IPython.core.display.HTML object>"
      ]
     },
     "metadata": {},
     "output_type": "display_data"
    },
    {
     "data": {
      "text/html": [
       "Find internal logs for this run at: <code>/home/nedal/my_project/build-ml-pipeline-for-short-term-rental-prices/src/eda/wandb/run-20230816_174006-j6als0zk/logs/debug-internal.log</code>"
      ],
      "text/plain": [
       "<IPython.core.display.HTML object>"
      ]
     },
     "metadata": {},
     "output_type": "display_data"
    },
    {
     "data": {
      "text/html": [
       "Synced 6 W&B file(s), 0 media file(s), 4 artifact file(s) and 1 other file(s)"
      ],
      "text/plain": [
       "<IPython.core.display.HTML object>"
      ]
     },
     "metadata": {},
     "output_type": "display_data"
    },
    {
     "data": {
      "text/html": [
       "\n",
       "                    <br/>Synced <strong style=\"color:#cdcd00\">lucky-tree-4</strong>: <a href=\"https://wandb.ai/aioptimiza/nyc_airbnb/runs/j6als0zk\" target=\"_blank\">https://wandb.ai/aioptimiza/nyc_airbnb/runs/j6als0zk</a><br/>\n",
       "                "
      ],
      "text/plain": [
       "<IPython.core.display.HTML object>"
      ]
     },
     "metadata": {},
     "output_type": "display_data"
    }
   ],
   "source": [
    "run.finish()"
   ]
  },
  {
   "cell_type": "code",
   "execution_count": null,
   "id": "f400fbf5-9679-428e-bbe3-9225f90db240",
   "metadata": {},
   "outputs": [],
   "source": []
  }
 ],
 "metadata": {
  "kernelspec": {
   "display_name": "Python 3 (ipykernel)",
   "language": "python",
   "name": "python3"
  },
  "language_info": {
   "codemirror_mode": {
    "name": "ipython",
    "version": 3
   },
   "file_extension": ".py",
   "mimetype": "text/x-python",
   "name": "python",
   "nbconvert_exporter": "python",
   "pygments_lexer": "ipython3",
   "version": "3.8.17"
  }
 },
 "nbformat": 4,
 "nbformat_minor": 5
}
